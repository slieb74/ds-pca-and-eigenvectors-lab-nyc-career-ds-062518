{
 "cells": [
  {
   "cell_type": "markdown",
   "metadata": {},
   "source": [
    "# Principal Components Analysis lab\n",
    "\n",
    "## Objective\n",
    "\n",
    "In this lab, we'll use PCA to transform a dataset by computing a covariance matrix and performing eigendecomposition."
   ]
  },
  {
   "cell_type": "markdown",
   "metadata": {},
   "source": [
    "## 1. Introduction and data"
   ]
  },
  {
   "cell_type": "markdown",
   "metadata": {},
   "source": [
    "Let's ease into the concept of Principal Component Analysis by looking at a first data set. This first data set contains the Estimated Retail Prices by Cities in March 1973. The numbers listed are the average price by cents in pounds. "
   ]
  },
  {
   "cell_type": "code",
   "execution_count": 1,
   "metadata": {},
   "outputs": [],
   "source": [
    "import pandas as pd\n",
    "import numpy as np\n",
    "from sklearn.decomposition import PCA\n",
    "import sklearn.preprocessing as preprocessing\n",
    "import matplotlib.pyplot as plt\n",
    "import matplotlib.ticker as ticker\n",
    "% matplotlib inline"
   ]
  },
  {
   "cell_type": "markdown",
   "metadata": {},
   "source": [
    "In the cell below, read in the data from `foodusa.csv` and store in in a pandas DataFrame.  Be sure to set `index_col` to `0`."
   ]
  },
  {
   "cell_type": "code",
   "execution_count": 8,
   "metadata": {},
   "outputs": [],
   "source": [
    "data = pd.read_csv('foodusa.csv', index_col=0)"
   ]
  },
  {
   "cell_type": "markdown",
   "metadata": {},
   "source": [
    "Now, display the dataset to ensure everything loaded correctly. "
   ]
  },
  {
   "cell_type": "code",
   "execution_count": 9,
   "metadata": {},
   "outputs": [
    {
     "data": {
      "text/html": [
       "<div>\n",
       "<style scoped>\n",
       "    .dataframe tbody tr th:only-of-type {\n",
       "        vertical-align: middle;\n",
       "    }\n",
       "\n",
       "    .dataframe tbody tr th {\n",
       "        vertical-align: top;\n",
       "    }\n",
       "\n",
       "    .dataframe thead th {\n",
       "        text-align: right;\n",
       "    }\n",
       "</style>\n",
       "<table border=\"1\" class=\"dataframe\">\n",
       "  <thead>\n",
       "    <tr style=\"text-align: right;\">\n",
       "      <th></th>\n",
       "      <th>Bread</th>\n",
       "      <th>Burger</th>\n",
       "      <th>Milk</th>\n",
       "      <th>Oranges</th>\n",
       "      <th>Tomatoes</th>\n",
       "    </tr>\n",
       "    <tr>\n",
       "      <th>City</th>\n",
       "      <th></th>\n",
       "      <th></th>\n",
       "      <th></th>\n",
       "      <th></th>\n",
       "      <th></th>\n",
       "    </tr>\n",
       "  </thead>\n",
       "  <tbody>\n",
       "    <tr>\n",
       "      <th>ATLANTA</th>\n",
       "      <td>24.5</td>\n",
       "      <td>94.5</td>\n",
       "      <td>73.9</td>\n",
       "      <td>80.1</td>\n",
       "      <td>41.6</td>\n",
       "    </tr>\n",
       "    <tr>\n",
       "      <th>BALTIMORE</th>\n",
       "      <td>26.5</td>\n",
       "      <td>91.0</td>\n",
       "      <td>67.5</td>\n",
       "      <td>74.6</td>\n",
       "      <td>53.3</td>\n",
       "    </tr>\n",
       "    <tr>\n",
       "      <th>BOSTON</th>\n",
       "      <td>29.7</td>\n",
       "      <td>100.8</td>\n",
       "      <td>61.4</td>\n",
       "      <td>104.0</td>\n",
       "      <td>59.6</td>\n",
       "    </tr>\n",
       "    <tr>\n",
       "      <th>BUFFALO</th>\n",
       "      <td>22.8</td>\n",
       "      <td>86.6</td>\n",
       "      <td>65.3</td>\n",
       "      <td>118.4</td>\n",
       "      <td>51.2</td>\n",
       "    </tr>\n",
       "    <tr>\n",
       "      <th>CHICAGO</th>\n",
       "      <td>26.7</td>\n",
       "      <td>86.7</td>\n",
       "      <td>62.7</td>\n",
       "      <td>105.9</td>\n",
       "      <td>51.2</td>\n",
       "    </tr>\n",
       "    <tr>\n",
       "      <th>CINCINNATI</th>\n",
       "      <td>25.3</td>\n",
       "      <td>102.5</td>\n",
       "      <td>63.3</td>\n",
       "      <td>99.3</td>\n",
       "      <td>45.6</td>\n",
       "    </tr>\n",
       "    <tr>\n",
       "      <th>CLEVELAND</th>\n",
       "      <td>22.8</td>\n",
       "      <td>88.8</td>\n",
       "      <td>52.4</td>\n",
       "      <td>110.9</td>\n",
       "      <td>46.8</td>\n",
       "    </tr>\n",
       "    <tr>\n",
       "      <th>DALLAS</th>\n",
       "      <td>23.3</td>\n",
       "      <td>85.5</td>\n",
       "      <td>62.5</td>\n",
       "      <td>117.9</td>\n",
       "      <td>41.8</td>\n",
       "    </tr>\n",
       "    <tr>\n",
       "      <th>DETROIT</th>\n",
       "      <td>24.1</td>\n",
       "      <td>93.7</td>\n",
       "      <td>51.5</td>\n",
       "      <td>109.7</td>\n",
       "      <td>52.4</td>\n",
       "    </tr>\n",
       "    <tr>\n",
       "      <th>HONALULU</th>\n",
       "      <td>29.3</td>\n",
       "      <td>105.9</td>\n",
       "      <td>80.2</td>\n",
       "      <td>133.2</td>\n",
       "      <td>61.7</td>\n",
       "    </tr>\n",
       "    <tr>\n",
       "      <th>HOUSTON</th>\n",
       "      <td>22.3</td>\n",
       "      <td>83.6</td>\n",
       "      <td>67.8</td>\n",
       "      <td>108.6</td>\n",
       "      <td>42.4</td>\n",
       "    </tr>\n",
       "    <tr>\n",
       "      <th>KANSAS CITY</th>\n",
       "      <td>26.1</td>\n",
       "      <td>88.9</td>\n",
       "      <td>65.4</td>\n",
       "      <td>100.9</td>\n",
       "      <td>43.2</td>\n",
       "    </tr>\n",
       "    <tr>\n",
       "      <th>LOS ANGELES</th>\n",
       "      <td>26.9</td>\n",
       "      <td>89.3</td>\n",
       "      <td>56.2</td>\n",
       "      <td>82.7</td>\n",
       "      <td>38.4</td>\n",
       "    </tr>\n",
       "    <tr>\n",
       "      <th>MILWAUKEE</th>\n",
       "      <td>20.3</td>\n",
       "      <td>89.6</td>\n",
       "      <td>53.8</td>\n",
       "      <td>111.8</td>\n",
       "      <td>53.9</td>\n",
       "    </tr>\n",
       "    <tr>\n",
       "      <th>MINNEAPOLIS</th>\n",
       "      <td>24.6</td>\n",
       "      <td>92.2</td>\n",
       "      <td>51.9</td>\n",
       "      <td>106.0</td>\n",
       "      <td>50.7</td>\n",
       "    </tr>\n",
       "    <tr>\n",
       "      <th>NEW YORK</th>\n",
       "      <td>30.8</td>\n",
       "      <td>110.7</td>\n",
       "      <td>66.0</td>\n",
       "      <td>107.3</td>\n",
       "      <td>62.6</td>\n",
       "    </tr>\n",
       "    <tr>\n",
       "      <th>PHILADELPHIA</th>\n",
       "      <td>24.5</td>\n",
       "      <td>92.3</td>\n",
       "      <td>66.7</td>\n",
       "      <td>98.0</td>\n",
       "      <td>61.7</td>\n",
       "    </tr>\n",
       "    <tr>\n",
       "      <th>PITTSBURGH</th>\n",
       "      <td>26.2</td>\n",
       "      <td>95.4</td>\n",
       "      <td>60.2</td>\n",
       "      <td>117.1</td>\n",
       "      <td>49.3</td>\n",
       "    </tr>\n",
       "    <tr>\n",
       "      <th>ST LOUIS</th>\n",
       "      <td>26.5</td>\n",
       "      <td>92.4</td>\n",
       "      <td>60.8</td>\n",
       "      <td>115.1</td>\n",
       "      <td>46.2</td>\n",
       "    </tr>\n",
       "    <tr>\n",
       "      <th>SAN DIEGO</th>\n",
       "      <td>25.5</td>\n",
       "      <td>83.7</td>\n",
       "      <td>57.0</td>\n",
       "      <td>92.8</td>\n",
       "      <td>35.4</td>\n",
       "    </tr>\n",
       "    <tr>\n",
       "      <th>SAN FRANCISCO</th>\n",
       "      <td>26.3</td>\n",
       "      <td>87.1</td>\n",
       "      <td>58.3</td>\n",
       "      <td>101.8</td>\n",
       "      <td>41.5</td>\n",
       "    </tr>\n",
       "    <tr>\n",
       "      <th>SEATTLE</th>\n",
       "      <td>22.5</td>\n",
       "      <td>77.7</td>\n",
       "      <td>62.0</td>\n",
       "      <td>91.1</td>\n",
       "      <td>44.9</td>\n",
       "    </tr>\n",
       "    <tr>\n",
       "      <th>WASHINGTON DC</th>\n",
       "      <td>24.2</td>\n",
       "      <td>93.8</td>\n",
       "      <td>66.0</td>\n",
       "      <td>81.6</td>\n",
       "      <td>46.2</td>\n",
       "    </tr>\n",
       "  </tbody>\n",
       "</table>\n",
       "</div>"
      ],
      "text/plain": [
       "               Bread  Burger  Milk  Oranges  Tomatoes\n",
       "City                                                 \n",
       "ATLANTA         24.5    94.5  73.9     80.1      41.6\n",
       "BALTIMORE       26.5    91.0  67.5     74.6      53.3\n",
       "BOSTON          29.7   100.8  61.4    104.0      59.6\n",
       "BUFFALO         22.8    86.6  65.3    118.4      51.2\n",
       "CHICAGO         26.7    86.7  62.7    105.9      51.2\n",
       "CINCINNATI      25.3   102.5  63.3     99.3      45.6\n",
       "CLEVELAND       22.8    88.8  52.4    110.9      46.8\n",
       "DALLAS          23.3    85.5  62.5    117.9      41.8\n",
       "DETROIT         24.1    93.7  51.5    109.7      52.4\n",
       "HONALULU        29.3   105.9  80.2    133.2      61.7\n",
       "HOUSTON         22.3    83.6  67.8    108.6      42.4\n",
       "KANSAS CITY     26.1    88.9  65.4    100.9      43.2\n",
       "LOS ANGELES     26.9    89.3  56.2     82.7      38.4\n",
       "MILWAUKEE       20.3    89.6  53.8    111.8      53.9\n",
       "MINNEAPOLIS     24.6    92.2  51.9    106.0      50.7\n",
       "NEW YORK        30.8   110.7  66.0    107.3      62.6\n",
       "PHILADELPHIA    24.5    92.3  66.7     98.0      61.7\n",
       "PITTSBURGH      26.2    95.4  60.2    117.1      49.3\n",
       "ST LOUIS        26.5    92.4  60.8    115.1      46.2\n",
       "SAN DIEGO       25.5    83.7  57.0     92.8      35.4\n",
       "SAN FRANCISCO   26.3    87.1  58.3    101.8      41.5\n",
       "SEATTLE         22.5    77.7  62.0     91.1      44.9\n",
       "WASHINGTON DC   24.2    93.8  66.0     81.6      46.2"
      ]
     },
     "execution_count": 9,
     "metadata": {},
     "output_type": "execute_result"
    }
   ],
   "source": [
    "data"
   ]
  },
  {
   "cell_type": "markdown",
   "metadata": {},
   "source": [
    "As you know from the lecture, we'll perform an eigendecomposition to transform the data. \n",
    "Before doing so, two things are of main importance when \n",
    "We'll first perform 2 steps:\n",
    "\n",
    "1. Let's look at the current correlation structure of the data and see if anything stands out.\n",
    "2. Let's also look at the data distributions and make sure we standardize our data first. As mentioned, we would like to get our data on a unit scale, if we want to get optimal PCA performance in the long run. "
   ]
  },
  {
   "cell_type": "markdown",
   "metadata": {},
   "source": [
    "## 2. The correlation structure"
   ]
  },
  {
   "cell_type": "markdown",
   "metadata": {},
   "source": [
    "Before we start, let's have a quick exploratory look at the data. Let's generate the correlation heatmap to see if we can detect anything extraordinary.\n",
    "\n",
    "Run the cells below to create a Correlation Heatmap of our dataset. "
   ]
  },
  {
   "cell_type": "code",
   "execution_count": 10,
   "metadata": {},
   "outputs": [],
   "source": [
    "names = list(data)"
   ]
  },
  {
   "cell_type": "code",
   "execution_count": 14,
   "metadata": {
    "scrolled": true
   },
   "outputs": [
    {
     "data": {
      "image/png": "[encoded data removed]",
      "text/plain": [
       "<Figure size 360x360 with 2 Axes>"
      ]
     },
     "metadata": {},
     "output_type": "display_data"
    }
   ],
   "source": [
    "fig, ax = plt.subplots(figsize=(5,5))\n",
    "mat = ax.matshow(data.corr())\n",
    "ax.set_xticks(np.arange(0,5,1))\n",
    "ax.set_yticks(np.arange(0,5,1))\n",
    "ax.set_xticklabels(names, rotation = 45)\n",
    "ax.set_yticklabels(names)\n",
    "fig.colorbar(mat)\n",
    "plt.show();"
   ]
  },
  {
   "cell_type": "markdown",
   "metadata": {},
   "source": [
    "This heatmap is useful for tracking unusual correlations. There is nothing really unexpected about this correlation matrix. The diagonal has correlation 1, which makes sense, and all the other correlations seem to be somewhere between 0 and 0.8. \n",
    "\n",
    "In order to perform a succesful PCA, you'd want to have some higher correlations among variables (which seems to be the case here, eg burger/bread and burger/tomatoes) so dimensionality reduction makes sense. If all variables would be uncorrelated, it would be hard to use PCA in order to reduce dimensionality. On the other hand, if variables are perfect correlates, you should just go ahead and remove columns instead of performing PCA."
   ]
  },
  {
   "cell_type": "markdown",
   "metadata": {},
   "source": [
    "## 3. Explore the data distributions"
   ]
  },
  {
   "cell_type": "markdown",
   "metadata": {},
   "source": [
    "Let's use `.describe()` to get a sense of our data distributions."
   ]
  },
  {
   "cell_type": "code",
   "execution_count": 16,
   "metadata": {},
   "outputs": [
    {
     "data": {
      "text/html": [
       "<div>\n",
       "<style scoped>\n",
       "    .dataframe tbody tr th:only-of-type {\n",
       "        vertical-align: middle;\n",
       "    }\n",
       "\n",
       "    .dataframe tbody tr th {\n",
       "        vertical-align: top;\n",
       "    }\n",
       "\n",
       "    .dataframe thead th {\n",
       "        text-align: right;\n",
       "    }\n",
       "</style>\n",
       "<table border=\"1\" class=\"dataframe\">\n",
       "  <thead>\n",
       "    <tr style=\"text-align: right;\">\n",
       "      <th></th>\n",
       "      <th>Bread</th>\n",
       "      <th>Burger</th>\n",
       "      <th>Milk</th>\n",
       "      <th>Oranges</th>\n",
       "      <th>Tomatoes</th>\n",
       "    </tr>\n",
       "  </thead>\n",
       "  <tbody>\n",
       "    <tr>\n",
       "      <th>count</th>\n",
       "      <td>23.000000</td>\n",
       "      <td>23.000000</td>\n",
       "      <td>23.000000</td>\n",
       "      <td>23.000000</td>\n",
       "      <td>23.000000</td>\n",
       "    </tr>\n",
       "    <tr>\n",
       "      <th>mean</th>\n",
       "      <td>25.291304</td>\n",
       "      <td>91.856522</td>\n",
       "      <td>62.295652</td>\n",
       "      <td>102.991304</td>\n",
       "      <td>48.765217</td>\n",
       "    </tr>\n",
       "    <tr>\n",
       "      <th>std</th>\n",
       "      <td>2.506884</td>\n",
       "      <td>7.554940</td>\n",
       "      <td>6.950244</td>\n",
       "      <td>14.239252</td>\n",
       "      <td>7.602668</td>\n",
       "    </tr>\n",
       "    <tr>\n",
       "      <th>min</th>\n",
       "      <td>20.300000</td>\n",
       "      <td>77.700000</td>\n",
       "      <td>51.500000</td>\n",
       "      <td>74.600000</td>\n",
       "      <td>35.400000</td>\n",
       "    </tr>\n",
       "    <tr>\n",
       "      <th>25%</th>\n",
       "      <td>23.700000</td>\n",
       "      <td>86.900000</td>\n",
       "      <td>57.650000</td>\n",
       "      <td>95.400000</td>\n",
       "      <td>42.800000</td>\n",
       "    </tr>\n",
       "    <tr>\n",
       "      <th>50%</th>\n",
       "      <td>25.300000</td>\n",
       "      <td>91.000000</td>\n",
       "      <td>62.500000</td>\n",
       "      <td>105.900000</td>\n",
       "      <td>46.800000</td>\n",
       "    </tr>\n",
       "    <tr>\n",
       "      <th>75%</th>\n",
       "      <td>26.500000</td>\n",
       "      <td>94.150000</td>\n",
       "      <td>66.000000</td>\n",
       "      <td>111.350000</td>\n",
       "      <td>52.850000</td>\n",
       "    </tr>\n",
       "    <tr>\n",
       "      <th>max</th>\n",
       "      <td>30.800000</td>\n",
       "      <td>110.700000</td>\n",
       "      <td>80.200000</td>\n",
       "      <td>133.200000</td>\n",
       "      <td>62.600000</td>\n",
       "    </tr>\n",
       "  </tbody>\n",
       "</table>\n",
       "</div>"
      ],
      "text/plain": [
       "           Bread      Burger       Milk     Oranges   Tomatoes\n",
       "count  23.000000   23.000000  23.000000   23.000000  23.000000\n",
       "mean   25.291304   91.856522  62.295652  102.991304  48.765217\n",
       "std     2.506884    7.554940   6.950244   14.239252   7.602668\n",
       "min    20.300000   77.700000  51.500000   74.600000  35.400000\n",
       "25%    23.700000   86.900000  57.650000   95.400000  42.800000\n",
       "50%    25.300000   91.000000  62.500000  105.900000  46.800000\n",
       "75%    26.500000   94.150000  66.000000  111.350000  52.850000\n",
       "max    30.800000  110.700000  80.200000  133.200000  62.600000"
      ]
     },
     "execution_count": 16,
     "metadata": {},
     "output_type": "execute_result"
    }
   ],
   "source": [
    "data.describe()"
   ]
  },
  {
   "cell_type": "markdown",
   "metadata": {},
   "source": [
    "Let's also plot some histograms of the distribution of our dataset.  \n",
    "\n",
    "In the cell below, create a histogram of the `data`.  Pass in the following parameters:\n",
    "\n",
    "* `bins=6`\n",
    "* `xlabelsize=8`\n",
    "* `ylabelsize=8`\n",
    "* `figsize=(8,8)`"
   ]
  },
  {
   "cell_type": "code",
   "execution_count": 20,
   "metadata": {},
   "outputs": [
    {
     "data": {
      "image/png": "[encoded data removed]",
      "text/plain": [
       "<Figure size 576x576 with 6 Axes>"
      ]
     },
     "metadata": {},
     "output_type": "display_data"
    }
   ],
   "source": [
    "ax = data.hist(bins=6, xlabelsize=8,ylabelsize=8,figsize=(8,8))"
   ]
  },
  {
   "cell_type": "markdown",
   "metadata": {},
   "source": [
    "These distributions look approximately normal (note that there are only 23 observations, so it is to be expected that the curves are not perfectly bell-shaped!). \n",
    "\n",
    "Now, let's go ahead and standardize the data. We'll do this manually at first to understand what is going on in the process. "
   ]
  },
  {
   "cell_type": "markdown",
   "metadata": {},
   "source": [
    "### 3.1 standardize manually\n",
    "\n",
    "In the cell below, compute the following values and store them in the appropriate variables.\n",
    "\n",
    "1. The `mean` of the `data`.\n",
    "1. The standard error of the `data`.\n",
    "1. A standardized version of the dataset, where each value has had the `avg` subtracted, and then divided by the `std_err`.  "
   ]
  },
  {
   "cell_type": "code",
   "execution_count": 21,
   "metadata": {},
   "outputs": [],
   "source": [
    "avg = data.mean()\n",
    "std_err = data.std()\n",
    "data_std= (data - avg) / std_err"
   ]
  },
  {
   "cell_type": "markdown",
   "metadata": {},
   "source": [
    "Now, display the head of the standardized dataset."
   ]
  },
  {
   "cell_type": "code",
   "execution_count": 25,
   "metadata": {},
   "outputs": [
    {
     "data": {
      "text/html": [
       "<div>\n",
       "<style scoped>\n",
       "    .dataframe tbody tr th:only-of-type {\n",
       "        vertical-align: middle;\n",
       "    }\n",
       "\n",
       "    .dataframe tbody tr th {\n",
       "        vertical-align: top;\n",
       "    }\n",
       "\n",
       "    .dataframe thead th {\n",
       "        text-align: right;\n",
       "    }\n",
       "</style>\n",
       "<table border=\"1\" class=\"dataframe\">\n",
       "  <thead>\n",
       "    <tr style=\"text-align: right;\">\n",
       "      <th></th>\n",
       "      <th>Bread</th>\n",
       "      <th>Burger</th>\n",
       "      <th>Milk</th>\n",
       "      <th>Oranges</th>\n",
       "      <th>Tomatoes</th>\n",
       "    </tr>\n",
       "    <tr>\n",
       "      <th>City</th>\n",
       "      <th></th>\n",
       "      <th></th>\n",
       "      <th></th>\n",
       "      <th></th>\n",
       "      <th></th>\n",
       "    </tr>\n",
       "  </thead>\n",
       "  <tbody>\n",
       "    <tr>\n",
       "      <th>ATLANTA</th>\n",
       "      <td>-0.315653</td>\n",
       "      <td>0.349901</td>\n",
       "      <td>1.669632</td>\n",
       "      <td>-1.607620</td>\n",
       "      <td>-0.942461</td>\n",
       "    </tr>\n",
       "    <tr>\n",
       "      <th>BALTIMORE</th>\n",
       "      <td>0.482151</td>\n",
       "      <td>-0.113372</td>\n",
       "      <td>0.748801</td>\n",
       "      <td>-1.993876</td>\n",
       "      <td>0.596473</td>\n",
       "    </tr>\n",
       "    <tr>\n",
       "      <th>BOSTON</th>\n",
       "      <td>1.758636</td>\n",
       "      <td>1.183792</td>\n",
       "      <td>-0.128866</td>\n",
       "      <td>0.070839</td>\n",
       "      <td>1.425129</td>\n",
       "    </tr>\n",
       "    <tr>\n",
       "      <th>BUFFALO</th>\n",
       "      <td>-0.993785</td>\n",
       "      <td>-0.695773</td>\n",
       "      <td>0.432265</td>\n",
       "      <td>1.082128</td>\n",
       "      <td>0.320254</td>\n",
       "    </tr>\n",
       "    <tr>\n",
       "      <th>CHICAGO</th>\n",
       "      <td>0.561931</td>\n",
       "      <td>-0.682536</td>\n",
       "      <td>0.058178</td>\n",
       "      <td>0.204273</td>\n",
       "      <td>0.320254</td>\n",
       "    </tr>\n",
       "  </tbody>\n",
       "</table>\n",
       "</div>"
      ],
      "text/plain": [
       "              Bread    Burger      Milk   Oranges  Tomatoes\n",
       "City                                                       \n",
       "ATLANTA   -0.315653  0.349901  1.669632 -1.607620 -0.942461\n",
       "BALTIMORE  0.482151 -0.113372  0.748801 -1.993876  0.596473\n",
       "BOSTON     1.758636  1.183792 -0.128866  0.070839  1.425129\n",
       "BUFFALO   -0.993785 -0.695773  0.432265  1.082128  0.320254\n",
       "CHICAGO    0.561931 -0.682536  0.058178  0.204273  0.320254"
      ]
     },
     "execution_count": 25,
     "metadata": {},
     "output_type": "execute_result"
    }
   ],
   "source": [
    "data_std.head()"
   ]
  },
  {
   "cell_type": "markdown",
   "metadata": {},
   "source": [
    "Finally, let's display histograms of this dataset, as we did with the original above.  Pass in the same parameters as you did above when creating these histograms.  "
   ]
  },
  {
   "cell_type": "code",
   "execution_count": 27,
   "metadata": {},
   "outputs": [
    {
     "data": {
      "image/png": "[encoded data removed]",
      "text/plain": [
       "<Figure size 576x576 with 6 Axes>"
      ]
     },
     "metadata": {},
     "output_type": "display_data"
    }
   ],
   "source": [
    "ax = data_std.hist(bins=6, xlabelsize=8,ylabelsize=8,figsize=(8,8))"
   ]
  },
  {
   "cell_type": "markdown",
   "metadata": {},
   "source": [
    "It seems like nothing really changed here, but be aware of what happened to the x-axis!"
   ]
  },
  {
   "cell_type": "markdown",
   "metadata": {},
   "source": [
    "### 3.2 Another way to standardize the data\n",
    "\n",
    "Since this is a common operation, sklearn provides an easy way to scale and transform our dataset by using a `StandardScaler` object's `fit_transform()` method.\n",
    "\n",
    "Run the cell below to use sklearn to create a scaled version of the dataset, and then inspect the head of this new DataFrame to see how it compares to the dataset we scaled manually."
   ]
  },
  {
   "cell_type": "code",
   "execution_count": 28,
   "metadata": {},
   "outputs": [],
   "source": [
    "from sklearn.preprocessing import StandardScaler\n",
    "data_std_2 = StandardScaler().fit_transform(data)\n",
    "data_std_2 = pd.DataFrame(data_std_2)"
   ]
  },
  {
   "cell_type": "code",
   "execution_count": 29,
   "metadata": {},
   "outputs": [
    {
     "data": {
      "text/html": [
       "<div>\n",
       "<style scoped>\n",
       "    .dataframe tbody tr th:only-of-type {\n",
       "        vertical-align: middle;\n",
       "    }\n",
       "\n",
       "    .dataframe tbody tr th {\n",
       "        vertical-align: top;\n",
       "    }\n",
       "\n",
       "    .dataframe thead th {\n",
       "        text-align: right;\n",
       "    }\n",
       "</style>\n",
       "<table border=\"1\" class=\"dataframe\">\n",
       "  <thead>\n",
       "    <tr style=\"text-align: right;\">\n",
       "      <th></th>\n",
       "      <th>0</th>\n",
       "      <th>1</th>\n",
       "      <th>2</th>\n",
       "      <th>3</th>\n",
       "      <th>4</th>\n",
       "    </tr>\n",
       "  </thead>\n",
       "  <tbody>\n",
       "    <tr>\n",
       "      <th>0</th>\n",
       "      <td>-0.322747</td>\n",
       "      <td>0.357765</td>\n",
       "      <td>1.707156</td>\n",
       "      <td>-1.643751</td>\n",
       "      <td>-0.963643</td>\n",
       "    </tr>\n",
       "    <tr>\n",
       "      <th>1</th>\n",
       "      <td>0.492987</td>\n",
       "      <td>-0.115920</td>\n",
       "      <td>0.765630</td>\n",
       "      <td>-2.038688</td>\n",
       "      <td>0.609878</td>\n",
       "    </tr>\n",
       "    <tr>\n",
       "      <th>2</th>\n",
       "      <td>1.798161</td>\n",
       "      <td>1.210398</td>\n",
       "      <td>-0.131763</td>\n",
       "      <td>0.072431</td>\n",
       "      <td>1.457158</td>\n",
       "    </tr>\n",
       "    <tr>\n",
       "      <th>3</th>\n",
       "      <td>-1.016120</td>\n",
       "      <td>-0.711410</td>\n",
       "      <td>0.441980</td>\n",
       "      <td>1.106449</td>\n",
       "      <td>0.327451</td>\n",
       "    </tr>\n",
       "    <tr>\n",
       "      <th>4</th>\n",
       "      <td>0.574560</td>\n",
       "      <td>-0.697876</td>\n",
       "      <td>0.059485</td>\n",
       "      <td>0.208864</td>\n",
       "      <td>0.327451</td>\n",
       "    </tr>\n",
       "  </tbody>\n",
       "</table>\n",
       "</div>"
      ],
      "text/plain": [
       "          0         1         2         3         4\n",
       "0 -0.322747  0.357765  1.707156 -1.643751 -0.963643\n",
       "1  0.492987 -0.115920  0.765630 -2.038688  0.609878\n",
       "2  1.798161  1.210398 -0.131763  0.072431  1.457158\n",
       "3 -1.016120 -0.711410  0.441980  1.106449  0.327451\n",
       "4  0.574560 -0.697876  0.059485  0.208864  0.327451"
      ]
     },
     "execution_count": 29,
     "metadata": {},
     "output_type": "execute_result"
    }
   ],
   "source": [
    "data_std_2.head()"
   ]
  },
  {
   "cell_type": "markdown",
   "metadata": {},
   "source": [
    "Note that you have to reattach the names of the columns.\n",
    "\n",
    "Run the cell below to reattach the column names."
   ]
  },
  {
   "cell_type": "code",
   "execution_count": 30,
   "metadata": {},
   "outputs": [],
   "source": [
    "data_std_2.columns = list(data)"
   ]
  },
  {
   "cell_type": "code",
   "execution_count": 31,
   "metadata": {},
   "outputs": [
    {
     "data": {
      "text/html": [
       "<div>\n",
       "<style scoped>\n",
       "    .dataframe tbody tr th:only-of-type {\n",
       "        vertical-align: middle;\n",
       "    }\n",
       "\n",
       "    .dataframe tbody tr th {\n",
       "        vertical-align: top;\n",
       "    }\n",
       "\n",
       "    .dataframe thead th {\n",
       "        text-align: right;\n",
       "    }\n",
       "</style>\n",
       "<table border=\"1\" class=\"dataframe\">\n",
       "  <thead>\n",
       "    <tr style=\"text-align: right;\">\n",
       "      <th></th>\n",
       "      <th>Bread</th>\n",
       "      <th>Burger</th>\n",
       "      <th>Milk</th>\n",
       "      <th>Oranges</th>\n",
       "      <th>Tomatoes</th>\n",
       "    </tr>\n",
       "  </thead>\n",
       "  <tbody>\n",
       "    <tr>\n",
       "      <th>0</th>\n",
       "      <td>-0.322747</td>\n",
       "      <td>0.357765</td>\n",
       "      <td>1.707156</td>\n",
       "      <td>-1.643751</td>\n",
       "      <td>-0.963643</td>\n",
       "    </tr>\n",
       "    <tr>\n",
       "      <th>1</th>\n",
       "      <td>0.492987</td>\n",
       "      <td>-0.115920</td>\n",
       "      <td>0.765630</td>\n",
       "      <td>-2.038688</td>\n",
       "      <td>0.609878</td>\n",
       "    </tr>\n",
       "    <tr>\n",
       "      <th>2</th>\n",
       "      <td>1.798161</td>\n",
       "      <td>1.210398</td>\n",
       "      <td>-0.131763</td>\n",
       "      <td>0.072431</td>\n",
       "      <td>1.457158</td>\n",
       "    </tr>\n",
       "    <tr>\n",
       "      <th>3</th>\n",
       "      <td>-1.016120</td>\n",
       "      <td>-0.711410</td>\n",
       "      <td>0.441980</td>\n",
       "      <td>1.106449</td>\n",
       "      <td>0.327451</td>\n",
       "    </tr>\n",
       "    <tr>\n",
       "      <th>4</th>\n",
       "      <td>0.574560</td>\n",
       "      <td>-0.697876</td>\n",
       "      <td>0.059485</td>\n",
       "      <td>0.208864</td>\n",
       "      <td>0.327451</td>\n",
       "    </tr>\n",
       "  </tbody>\n",
       "</table>\n",
       "</div>"
      ],
      "text/plain": [
       "      Bread    Burger      Milk   Oranges  Tomatoes\n",
       "0 -0.322747  0.357765  1.707156 -1.643751 -0.963643\n",
       "1  0.492987 -0.115920  0.765630 -2.038688  0.609878\n",
       "2  1.798161  1.210398 -0.131763  0.072431  1.457158\n",
       "3 -1.016120 -0.711410  0.441980  1.106449  0.327451\n",
       "4  0.574560 -0.697876  0.059485  0.208864  0.327451"
      ]
     },
     "execution_count": 31,
     "metadata": {},
     "output_type": "execute_result"
    }
   ],
   "source": [
    "data_std_2.head()"
   ]
  },
  {
   "cell_type": "markdown",
   "metadata": {},
   "source": [
    "Finally, create another set of histograms, this time on `data_std_2`.  Use the same parameters as we have above. "
   ]
  },
  {
   "cell_type": "code",
   "execution_count": 34,
   "metadata": {},
   "outputs": [
    {
     "data": {
      "image/png": "[encoded data removed]",
      "text/plain": [
       "<Figure size 576x576 with 6 Axes>"
      ]
     },
     "metadata": {},
     "output_type": "display_data"
    }
   ],
   "source": [
    "ax = data_std_2.hist(bins=6,xlabelsize=8,ylabelsize=8,figsize=(8,8))"
   ]
  },
  {
   "cell_type": "markdown",
   "metadata": {},
   "source": [
    "Note that the results differ slightly. When using StandardScaler, centering and scaling happen independently on each feature by computing the relevant statistics. Mean and standard deviation are then stored to be used on later data using the transform method. You can look at the histograms again, but it is expected to look exactly the same again."
   ]
  },
  {
   "cell_type": "markdown",
   "metadata": {
    "collapsed": true
   },
   "source": [
    "## 4. The correlation matrix\n",
    "\n",
    "**_NOTE:_** This section contains **_a lot_** of math.  Understanding how the math behind PCA and eigendecomposition works is important, because it provides great insight  into how the algorithm actually works under the hood, and can inform our use to make sure we're using PCA correctly. \n",
    "\n",
    "With that being said, don't feel overwhelmed--on the job, you'll almost never compute this manually. Instead, you'll rely on heavily optimized, industry-standard tools such as sklearn to transform data with PCA.  "
   ]
  },
  {
   "cell_type": "markdown",
   "metadata": {},
   "source": [
    "We've actually looked at the heatmap already, but now let's formally compute the correlation matrix. As you saw in the lecture, the sample covariance matrix is given by:\n",
    "\n",
    "\\begin{equation}\n",
    "\\mathbf{S} = \\begin{bmatrix}\n",
    "    s^2_{1} & s_{12}  & \\dots  & s_{1p} \\\\\n",
    "    s_{21} & s^2_{2}  & \\dots  & s_{2p} \\\\\n",
    "    \\vdots & \\vdots & \\ddots & \\vdots \\\\\n",
    "    s_{p1} & s_{p2} & \\dots  & s^2_{p}\n",
    "\\end{bmatrix}\n",
    "\\end{equation}\n",
    "\n",
    "with\n",
    "\n",
    "$$s_{jk} = \\dfrac{\\sum_{i=1}^n (X_{ij}-\\bar X_{.j})(X_{ij}-\\bar X_{.k})}{n-1}= \\dfrac{\\sum_{i=1}^n x_{ij}x_{ik}}{n-1}$$"
   ]
  },
  {
   "cell_type": "markdown",
   "metadata": {},
   "source": [
    "Everything became actually easier now that we're working with standardized variables here, so we can get to the correlations as follows:\n",
    "$r_{jk} = \\dfrac{\\sum_{i=1}^n z_{ij}z_{ik}}{n-1}$.\n",
    "\n",
    "We know that we can use the .corr-function, but it's a good exercise to do this manually in Python. You can use the `.dot`-function:"
   ]
  },
  {
   "cell_type": "code",
   "execution_count": 42,
   "metadata": {},
   "outputs": [],
   "source": [
    "cov_mat = (data_std.T.dot(data_std)) / (data_std.shape[0]-1)"
   ]
  },
  {
   "cell_type": "code",
   "execution_count": 43,
   "metadata": {
    "scrolled": true
   },
   "outputs": [
    {
     "data": {
      "text/html": [
       "<div>\n",
       "<style scoped>\n",
       "    .dataframe tbody tr th:only-of-type {\n",
       "        vertical-align: middle;\n",
       "    }\n",
       "\n",
       "    .dataframe tbody tr th {\n",
       "        vertical-align: top;\n",
       "    }\n",
       "\n",
       "    .dataframe thead th {\n",
       "        text-align: right;\n",
       "    }\n",
       "</style>\n",
       "<table border=\"1\" class=\"dataframe\">\n",
       "  <thead>\n",
       "    <tr style=\"text-align: right;\">\n",
       "      <th></th>\n",
       "      <th>Bread</th>\n",
       "      <th>Burger</th>\n",
       "      <th>Milk</th>\n",
       "      <th>Oranges</th>\n",
       "      <th>Tomatoes</th>\n",
       "    </tr>\n",
       "  </thead>\n",
       "  <tbody>\n",
       "    <tr>\n",
       "      <th>Bread</th>\n",
       "      <td>1.000000</td>\n",
       "      <td>0.681700</td>\n",
       "      <td>0.328239</td>\n",
       "      <td>0.036709</td>\n",
       "      <td>0.382241</td>\n",
       "    </tr>\n",
       "    <tr>\n",
       "      <th>Burger</th>\n",
       "      <td>0.681700</td>\n",
       "      <td>1.000000</td>\n",
       "      <td>0.333422</td>\n",
       "      <td>0.210937</td>\n",
       "      <td>0.631898</td>\n",
       "    </tr>\n",
       "    <tr>\n",
       "      <th>Milk</th>\n",
       "      <td>0.328239</td>\n",
       "      <td>0.333422</td>\n",
       "      <td>1.000000</td>\n",
       "      <td>-0.002779</td>\n",
       "      <td>0.254417</td>\n",
       "    </tr>\n",
       "    <tr>\n",
       "      <th>Oranges</th>\n",
       "      <td>0.036709</td>\n",
       "      <td>0.210937</td>\n",
       "      <td>-0.002779</td>\n",
       "      <td>1.000000</td>\n",
       "      <td>0.358061</td>\n",
       "    </tr>\n",
       "    <tr>\n",
       "      <th>Tomatoes</th>\n",
       "      <td>0.382241</td>\n",
       "      <td>0.631898</td>\n",
       "      <td>0.254417</td>\n",
       "      <td>0.358061</td>\n",
       "      <td>1.000000</td>\n",
       "    </tr>\n",
       "  </tbody>\n",
       "</table>\n",
       "</div>"
      ],
      "text/plain": [
       "             Bread    Burger      Milk   Oranges  Tomatoes\n",
       "Bread     1.000000  0.681700  0.328239  0.036709  0.382241\n",
       "Burger    0.681700  1.000000  0.333422  0.210937  0.631898\n",
       "Milk      0.328239  0.333422  1.000000 -0.002779  0.254417\n",
       "Oranges   0.036709  0.210937 -0.002779  1.000000  0.358061\n",
       "Tomatoes  0.382241  0.631898  0.254417  0.358061  1.000000"
      ]
     },
     "execution_count": 43,
     "metadata": {},
     "output_type": "execute_result"
    }
   ],
   "source": [
    "cov_mat"
   ]
  },
  {
   "cell_type": "markdown",
   "metadata": {},
   "source": [
    "Or, even easier, we can make use of the `.cov` function inside of numpy, and just pass in the transposed version of our data.  "
   ]
  },
  {
   "cell_type": "code",
   "execution_count": 46,
   "metadata": {},
   "outputs": [
    {
     "data": {
      "text/plain": [
       "array([[ 1.        ,  0.68170049,  0.32823868,  0.03670916,  0.38224129],\n",
       "       [ 0.68170049,  1.        ,  0.33342167,  0.21093676,  0.63189831],\n",
       "       [ 0.32823868,  0.33342167,  1.        , -0.00277912,  0.2544167 ],\n",
       "       [ 0.03670916,  0.21093676, -0.00277912,  1.        ,  0.3580615 ],\n",
       "       [ 0.38224129,  0.63189831,  0.2544167 ,  0.3580615 ,  1.        ]])"
      ]
     },
     "execution_count": 46,
     "metadata": {},
     "output_type": "execute_result"
    }
   ],
   "source": [
    "np.cov(data_std.T)"
   ]
  },
  {
   "cell_type": "markdown",
   "metadata": {},
   "source": [
    "## 5.  Eigendecomposition in Python"
   ]
  },
  {
   "cell_type": "markdown",
   "metadata": {},
   "source": [
    "In Python, numpy stores quite a few linear algebra functions which makes eigendecomposition easy, stored inside the `linalg` module.  \n",
    "\n",
    "In the cell below, call `linalg.eig()` and pass in the covariance matrix we computed above, `cov_mat`.  \n",
    "\n",
    "Note that this function returns 2 values:\n",
    "\n",
    "1. An 1-d array of eigenvalues\n",
    "1. A 2-d array of eigenvectors"
   ]
  },
  {
   "cell_type": "code",
   "execution_count": 65,
   "metadata": {},
   "outputs": [],
   "source": [
    "eig_values, eig_vectors = np.linalg.eig(cov_mat)"
   ]
  },
  {
   "cell_type": "markdown",
   "metadata": {},
   "source": [
    "Now, let's inspect the eiginvalues and eigenvectors this function returned:"
   ]
  },
  {
   "cell_type": "code",
   "execution_count": 66,
   "metadata": {},
   "outputs": [
    {
     "data": {
      "text/plain": [
       "array([2.42246795, 1.10467489, 0.2407653 , 0.73848053, 0.49361132])"
      ]
     },
     "execution_count": 66,
     "metadata": {},
     "output_type": "execute_result"
    }
   ],
   "source": [
    "eig_values"
   ]
  },
  {
   "cell_type": "code",
   "execution_count": 67,
   "metadata": {},
   "outputs": [
    {
     "data": {
      "text/plain": [
       "array([[ 0.49614868,  0.30861972,  0.49989887,  0.38639398, -0.50930459],\n",
       "       [ 0.57570231,  0.04380176, -0.77263501,  0.26247227,  0.02813712],\n",
       "       [ 0.33956956,  0.43080905, -0.00788224, -0.83463952, -0.0491    ],\n",
       "       [ 0.22498981, -0.79677694,  0.0059668 , -0.29160659, -0.47901574],\n",
       "       [ 0.50643404, -0.28702846,  0.39120139,  0.01226602,  0.71270629]])"
      ]
     },
     "execution_count": 67,
     "metadata": {},
     "output_type": "execute_result"
    }
   ],
   "source": [
    "eig_vectors"
   ]
  },
  {
   "cell_type": "markdown",
   "metadata": {},
   "source": [
    "And finally, we'll use a list comprehension to compute the eigenpairs.  Run the cell below. "
   ]
  },
  {
   "cell_type": "code",
   "execution_count": 68,
   "metadata": {},
   "outputs": [],
   "source": [
    "eig_pairs = [(np.abs(eig_values[i]), eig_vectors[:,i]) for i in range(len(eig_values))]"
   ]
  },
  {
   "cell_type": "code",
   "execution_count": 69,
   "metadata": {},
   "outputs": [
    {
     "data": {
      "text/plain": [
       "[(2.4224679507118143,\n",
       "  array([0.49614868, 0.57570231, 0.33956956, 0.22498981, 0.50643404])),\n",
       " (1.104674892913033,\n",
       "  array([ 0.30861972,  0.04380176,  0.43080905, -0.79677694, -0.28702846])),\n",
       " (0.2407653048358749,\n",
       "  array([ 0.49989887, -0.77263501, -0.00788224,  0.0059668 ,  0.39120139])),\n",
       " (0.7384805319923926,\n",
       "  array([ 0.38639398,  0.26247227, -0.83463952, -0.29160659,  0.01226602])),\n",
       " (0.4936113195468853,\n",
       "  array([-0.50930459,  0.02813712, -0.0491    , -0.47901574,  0.71270629]))]"
      ]
     },
     "execution_count": 69,
     "metadata": {},
     "output_type": "execute_result"
    }
   ],
   "source": [
    "eig_pairs"
   ]
  },
  {
   "cell_type": "markdown",
   "metadata": {},
   "source": [
    "### 5.1  Check if the squared norms are equal to 1"
   ]
  },
  {
   "cell_type": "code",
   "execution_count": 70,
   "metadata": {},
   "outputs": [
    {
     "name": "stdout",
     "output_type": "stream",
     "text": [
      "0.9999999999999994\n",
      "1.0\n",
      "1.0000000000000002\n",
      "0.9999999999999998\n",
      "1.0000000000000007\n"
     ]
    }
   ],
   "source": [
    "for eigvec in eig_vectors:\n",
    "    print(np.linalg.norm(eigvec))"
   ]
  },
  {
   "cell_type": "markdown",
   "metadata": {},
   "source": [
    "or, alternatively"
   ]
  },
  {
   "cell_type": "code",
   "execution_count": 71,
   "metadata": {},
   "outputs": [
    {
     "data": {
      "text/plain": [
       "array([1., 1., 1., 1., 1.])"
      ]
     },
     "execution_count": 71,
     "metadata": {},
     "output_type": "execute_result"
    }
   ],
   "source": [
    "sum(np.square(eig_vectors))"
   ]
  },
  {
   "cell_type": "markdown",
   "metadata": {},
   "source": [
    "### 5.2 Let's check if our eigenvectors are uncorrelated. \n",
    "\n",
    "Run the cells below to create a correlation heatmap as we did at the top of the lab, but this time on a correlation matrix of the eigenvectors we've computed.  "
   ]
  },
  {
   "cell_type": "code",
   "execution_count": 72,
   "metadata": {},
   "outputs": [
    {
     "data": {
      "text/plain": [
       "array([[ 0.49614868,  0.30861972,  0.49989887,  0.38639398, -0.50930459],\n",
       "       [ 0.57570231,  0.04380176, -0.77263501,  0.26247227,  0.02813712],\n",
       "       [ 0.33956956,  0.43080905, -0.00788224, -0.83463952, -0.0491    ],\n",
       "       [ 0.22498981, -0.79677694,  0.0059668 , -0.29160659, -0.47901574],\n",
       "       [ 0.50643404, -0.28702846,  0.39120139,  0.01226602,  0.71270629]])"
      ]
     },
     "execution_count": 72,
     "metadata": {},
     "output_type": "execute_result"
    }
   ],
   "source": [
    "eig_vectors"
   ]
  },
  {
   "cell_type": "code",
   "execution_count": 73,
   "metadata": {},
   "outputs": [],
   "source": [
    "eig_vectors = pd.DataFrame(eig_vectors)"
   ]
  },
  {
   "cell_type": "code",
   "execution_count": 74,
   "metadata": {},
   "outputs": [
    {
     "data": {
      "image/png": "[encoded data removed]",
      "text/plain": [
       "<Figure size 360x360 with 2 Axes>"
      ]
     },
     "metadata": {},
     "output_type": "display_data"
    }
   ],
   "source": [
    "fig, ax = plt.subplots(figsize=(5,5))\n",
    "mat = ax.matshow(eig_vectors.corr())\n",
    "ax.set_xticks(np.arange(0,5,1))\n",
    "ax.set_yticks(np.arange(0,5,1))\n",
    "ax.set_xticklabels(names, rotation = 45)\n",
    "ax.set_yticklabels(names)\n",
    "fig.colorbar(mat)\n",
    "plt.show();"
   ]
  },
  {
   "cell_type": "code",
   "execution_count": 76,
   "metadata": {},
   "outputs": [
    {
     "data": {
      "text/html": [
       "<div>\n",
       "<style scoped>\n",
       "    .dataframe tbody tr th:only-of-type {\n",
       "        vertical-align: middle;\n",
       "    }\n",
       "\n",
       "    .dataframe tbody tr th {\n",
       "        vertical-align: top;\n",
       "    }\n",
       "\n",
       "    .dataframe thead th {\n",
       "        text-align: right;\n",
       "    }\n",
       "</style>\n",
       "<table border=\"1\" class=\"dataframe\">\n",
       "  <thead>\n",
       "    <tr style=\"text-align: right;\">\n",
       "      <th></th>\n",
       "      <th>0</th>\n",
       "      <th>1</th>\n",
       "      <th>2</th>\n",
       "      <th>3</th>\n",
       "      <th>4</th>\n",
       "    </tr>\n",
       "  </thead>\n",
       "  <tbody>\n",
       "    <tr>\n",
       "      <th>0</th>\n",
       "      <td>1.000000</td>\n",
       "      <td>0.454959</td>\n",
       "      <td>-0.175050</td>\n",
       "      <td>0.713220</td>\n",
       "      <td>0.448798</td>\n",
       "    </tr>\n",
       "    <tr>\n",
       "      <th>1</th>\n",
       "      <td>0.454959</td>\n",
       "      <td>1.000000</td>\n",
       "      <td>0.007080</td>\n",
       "      <td>-0.028847</td>\n",
       "      <td>-0.018152</td>\n",
       "    </tr>\n",
       "    <tr>\n",
       "      <th>2</th>\n",
       "      <td>-0.175050</td>\n",
       "      <td>0.007080</td>\n",
       "      <td>1.000000</td>\n",
       "      <td>0.011099</td>\n",
       "      <td>0.006984</td>\n",
       "    </tr>\n",
       "    <tr>\n",
       "      <th>3</th>\n",
       "      <td>0.713220</td>\n",
       "      <td>-0.028847</td>\n",
       "      <td>0.011099</td>\n",
       "      <td>1.000000</td>\n",
       "      <td>-0.028457</td>\n",
       "    </tr>\n",
       "    <tr>\n",
       "      <th>4</th>\n",
       "      <td>0.448798</td>\n",
       "      <td>-0.018152</td>\n",
       "      <td>0.006984</td>\n",
       "      <td>-0.028457</td>\n",
       "      <td>1.000000</td>\n",
       "    </tr>\n",
       "  </tbody>\n",
       "</table>\n",
       "</div>"
      ],
      "text/plain": [
       "          0         1         2         3         4\n",
       "0  1.000000  0.454959 -0.175050  0.713220  0.448798\n",
       "1  0.454959  1.000000  0.007080 -0.028847 -0.018152\n",
       "2 -0.175050  0.007080  1.000000  0.011099  0.006984\n",
       "3  0.713220 -0.028847  0.011099  1.000000 -0.028457\n",
       "4  0.448798 -0.018152  0.006984 -0.028457  1.000000"
      ]
     },
     "execution_count": 76,
     "metadata": {},
     "output_type": "execute_result"
    }
   ],
   "source": [
    "eig_vectors.corr()"
   ]
  },
  {
   "cell_type": "markdown",
   "metadata": {},
   "source": [
    "Great, you got to the end of this lab! You know how to transform your data now. But what's the use and what does this all mean? You'll find out in the next lecture and lab!"
   ]
  },
  {
   "cell_type": "markdown",
   "metadata": {},
   "source": [
    "## Sources"
   ]
  },
  {
   "cell_type": "markdown",
   "metadata": {},
   "source": [
    "https://data.world/exercises/principal-components-exercise-1"
   ]
  },
  {
   "cell_type": "markdown",
   "metadata": {},
   "source": [
    "https://data.world/craigkelly/usda-national-nutrient-db"
   ]
  },
  {
   "cell_type": "markdown",
   "metadata": {},
   "source": [
    "https://machinelearningmastery.com/visualize-machine-learning-data-python-pandas/"
   ]
  }
 ],
 "metadata": {
  "kernelspec": {
   "display_name": "Python 3",
   "language": "python",
   "name": "python3"
  },
  "language_info": {
   "codemirror_mode": {
    "name": "ipython",
    "version": 3
   },
   "file_extension": ".py",
   "mimetype": "text/x-python",
   "name": "python",
   "nbconvert_exporter": "python",
   "pygments_lexer": "ipython3",
   "version": "3.6.6"
  }
 },
 "nbformat": 4,
 "nbformat_minor": 1
}
